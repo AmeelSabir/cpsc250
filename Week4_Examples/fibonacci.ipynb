{
 "cells": [
  {
   "cell_type": "markdown",
   "metadata": {},
   "source": [
    "# Calculating the Complex Fibonacci Sequence\n",
    "\n",
    "We begin by importing the matplotlib visualization library.  We also define $\\phi$, the so-called golden ratio, as:\n",
    "\n",
    "$\\phi = \\frac{1 + \\sqrt{5}}{2}$\n",
    "\n",
    "Finally, we define a function, fibonacci_phi(n), which calculates the $n^{th}$ term of the Fibonacci sequence (f$_n$).  An important point here is the we need to use the \"**\" exponentiation operator in Python, as opposed to using math.sqrt().\n",
    "\n",
    "If we call this function with a $real$ argument, then it will return a $complex$ value for f$_n$."
   ]
  },
  {
   "cell_type": "code",
   "execution_count": 1,
   "metadata": {},
   "outputs": [],
   "source": [
    "import matplotlib.pyplot as plt\n",
    "\n",
    "phi = (1.0 + 5.0 ** 0.5) / 2.0\n",
    "\n",
    "def fibonacci_phi(n):\n",
    "    global phi\n",
    "    return (phi**n-(-1.0/phi)**n)/5.0**0.5"
   ]
  },
  {
   "cell_type": "markdown",
   "metadata": {},
   "source": [
    "### Main Program:\n",
    "\n",
    "1. Define the interval for calculating $f_n$, and the number of data points to use on that interval.  This then defines the interval spacing, dx.\n",
    "\n",
    "2. Calculate the Fibonacci sequence for the following cases:\n",
    "    (a) Integral values of n in the given interval, in the case where the interval is on the positive real axis.\n",
    "    (b) Integral values of n in the given interval, in the case where the interval is on the negative real axis.\n",
    "    \n",
    "    Note that for integral values of n, the imaginary part of the sequence will be zero.\n",
    "    \n",
    "3.  Calculate the Fibonacci sequence over the given interval.  Store the real and imaginary parts in separate lists, for plotting purposes."
   ]
  },
  {
   "cell_type": "code",
   "execution_count": 2,
   "metadata": {},
   "outputs": [],
   "source": [
    "xlow = 0.0\n",
    "xhigh = 5.1\n",
    "npts = 1111\n",
    "dx = (xhigh-xlow)/npts\n",
    "\n",
    "fibonnaci_real_pos = [fibonacci_phi(n) for n in range(int(xhigh)+1)]\n",
    "fibonnaci_imag_pos = [0 for n in range(int(xhigh)+1)]\n",
    "fibonnaci_real_neg = [fibonacci_phi(n) for n in range(int(xhigh),1)]\n",
    "fibonnaci_imag_neg = [0 for n in range(int(xhigh),1)]\n",
    "\n",
    "x_values = []\n",
    "y_values = []\n",
    "\n",
    "for i in range(npts):\n",
    "    x = xlow + i*dx\n",
    "    fn = fibonacci_phi(x)\n",
    "    # print(x,fn)\n",
    "    x_values.append(fn.real)\n",
    "    y_values.append(fn.imag)"
   ]
  },
  {
   "cell_type": "markdown",
   "metadata": {},
   "source": [
    "### Plotting / Visualization"
   ]
  },
  {
   "cell_type": "code",
   "execution_count": 3,
   "metadata": {},
   "outputs": [
    {
     "data": {
      "image/png": "[encoded data removed]",
      "text/plain": [
       "<Figure size 432x288 with 1 Axes>"
      ]
     },
     "metadata": {
      "needs_background": "light"
     },
     "output_type": "display_data"
    }
   ],
   "source": [
    "plt.plot(x_values, y_values)\n",
    "if xhigh > 0:\n",
    "    plt.plot(fibonnaci_real_pos, fibonnaci_imag_pos, 'o')\n",
    "else:\n",
    "    plt.plot(fibonnaci_real_neg, fibonnaci_imag_neg, 'o')\n",
    "plt.axvline(x=0, c=\"black\", linewidth=0.5)    \n",
    "plt.axhline(y=0, c=\"black\", linewidth=0.5)\n",
    "plt.title(\"Complex Fibonacci Sequence\")\n",
    "plt.xlabel(\"Real(f_n)\")\n",
    "plt.ylabel(\"Imag(f_n)\")\n",
    "plt.show()"
   ]
  },
  {
   "cell_type": "code",
   "execution_count": null,
   "metadata": {},
   "outputs": [],
   "source": []
  }
 ],
 "metadata": {
  "kernelspec": {
   "display_name": "Python 3",
   "language": "python",
   "name": "python3"
  },
  "language_info": {
   "codemirror_mode": {
    "name": "ipython",
    "version": 3
   },
   "file_extension": ".py",
   "mimetype": "text/x-python",
   "name": "python",
   "nbconvert_exporter": "python",
   "pygments_lexer": "ipython3",
   "version": "3.6.8"
  },
  "latex_envs": {
   "LaTeX_envs_menu_present": true,
   "autoclose": false,
   "autocomplete": true,
   "bibliofile": "biblio.bib",
   "cite_by": "apalike",
   "current_citInitial": 1,
   "eqLabelWithNumbers": true,
   "eqNumInitial": 1,
   "hotkeys": {
    "equation": "Ctrl-E",
    "itemize": "Ctrl-I"
   },
   "labels_anchors": false,
   "latex_user_defs": false,
   "report_style_numbering": false,
   "user_envs_cfg": false
  }
 },
 "nbformat": 4,
 "nbformat_minor": 4
}
