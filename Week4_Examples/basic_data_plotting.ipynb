{
 "cells": [
  {
   "cell_type": "code",
   "execution_count": 13,
   "metadata": {
    "collapsed": true,
    "ExecuteTime": {
     "end_time": "2024-05-14T12:42:40.607987Z",
     "start_time": "2024-05-14T12:42:40.602963Z"
    }
   },
   "source": [],
   "outputs": []
  },
  {
   "cell_type": "code",
   "execution_count": 14,
   "source": [
    "import csv\n",
    "import matplotlib.pyplot as plt\n",
    "from scipy.optimize import curve_fit\n",
    "import numpy as np"
   ],
   "metadata": {
    "collapsed": false,
    "ExecuteTime": {
     "end_time": "2024-05-14T12:42:41.135457Z",
     "start_time": "2024-05-14T12:42:41.129660Z"
    }
   },
   "outputs": []
  },
  {
   "cell_type": "code",
   "execution_count": 15,
   "source": [
    "def read_data(filename):\n",
    "    x = []\n",
    "    y = []\n",
    "    dx = []\n",
    "    dy = []\n",
    "\n",
    "    with open(filename, 'r') as file:\n",
    "        reader = csv.reader(file)\n",
    "        headers = next(reader, None)\n",
    "        for row in reader:\n",
    "            x.append(float(row[0]))\n",
    "            y.append(float(row[1]))\n",
    "            dx.append(float(row[2]))\n",
    "            dy.append(float(row[3]))\n",
    "\n",
    "    return headers, x, y, dx, dy"
   ],
   "metadata": {
    "collapsed": false,
    "ExecuteTime": {
     "end_time": "2024-05-14T12:42:43.146261Z",
     "start_time": "2024-05-14T12:42:43.141143Z"
    }
   },
   "outputs": []
  },
  {
   "cell_type": "code",
   "execution_count": 16,
   "source": [
    "# Step 3a: Define a quadratic fit function\n",
    "def fitfunction(x, *param):\n",
    "    return param[0]*x*x + param[1]*x + param[2]"
   ],
   "metadata": {
    "collapsed": false,
    "ExecuteTime": {
     "end_time": "2024-05-14T12:42:44.988420Z",
     "start_time": "2024-05-14T12:42:44.981239Z"
    }
   },
   "outputs": []
  },
  {
   "cell_type": "code",
   "execution_count": 17,
   "source": [
    "# Step 1:  Read the data into appropriate data structures\n",
    "file_name = \"testdata.csv\"\n",
    "header_values, xi, yi, dxi, dyi = read_data(file_name)\n",
    "\n",
    "# print(header_values)\n",
    "# print(xi, yi, dxi, dyi)"
   ],
   "metadata": {
    "collapsed": false,
    "ExecuteTime": {
     "end_time": "2024-05-14T12:42:45.753917Z",
     "start_time": "2024-05-14T12:42:45.748762Z"
    }
   },
   "outputs": []
  },
  {
   "cell_type": "code",
   "execution_count": 18,
   "source": [
    "# Step 2: Basic plot of the data with error bars, plot title, and axis labels\n",
    "plt.errorbar(xi, yi, xerr=dxi, yerr=dyi, fmt='o', label=\"Pollen Count Data\", capsize=5.0)\n",
    "plt.title(\"Basic Plotting Example\")\n",
    "plt.xlabel(header_values[0])\n",
    "plt.ylabel(header_values[1])\n",
    "\n",
    "# Make sure lower limit of y-axis is zero!\n",
    "plt.ylim(0)"
   ],
   "metadata": {
    "collapsed": false,
    "ExecuteTime": {
     "end_time": "2024-05-14T12:42:46.530446Z",
     "start_time": "2024-05-14T12:42:46.399862Z"
    }
   },
   "outputs": []
  },
  {
   "cell_type": "code",
   "execution_count": 19,
   "source": [
    "# Step 3b:  Fit the data\n",
    "init_vals = [0 for x in range(3)]\n",
    "popt, pcov = curve_fit(fitfunction, xi, yi, p0=init_vals, sigma=dyi, absolute_sigma=True)\n",
    "\n",
    "# print(popt)\n",
    "# print(perr)\n",
    "# print(pcov)"
   ],
   "metadata": {
    "collapsed": false,
    "ExecuteTime": {
     "end_time": "2024-05-14T12:42:47.410591Z",
     "start_time": "2024-05-14T12:42:47.406943Z"
    }
   },
   "outputs": []
  },
  {
   "cell_type": "code",
   "execution_count": 20,
   "source": [
    "# Step 3c:  Extract the fit parameters, with uncertainties\n",
    "perr = np.sqrt(np.diag(pcov))\n",
    "a = popt[0]\n",
    "b = popt[1]\n",
    "c = popt[2]\n",
    "da = perr[0]\n",
    "db = perr[1]\n",
    "dc = perr[2]\n",
    "print(f'Fit Result: y = ({a:.5f} +/- {da:.5f})x^2 + ({b:.5f} +/- {db:.5f})x + ({c:.5f} +/- {dc:.5f})')"
   ],
   "metadata": {
    "collapsed": false,
    "ExecuteTime": {
     "end_time": "2024-05-14T12:42:48.315636Z",
     "start_time": "2024-05-14T12:42:48.310400Z"
    }
   },
   "outputs": []
  },
  {
   "cell_type": "code",
   "execution_count": 25,
   "source": [
    "# Step 2: Basic plot of the data with error bars, plot title, and axis labels\n",
    "plt.errorbar(xi, yi, xerr=dxi, yerr=dyi, fmt='o', label=\"Pollen Count Data\", capsize=5.0)\n",
    "plt.title(\"Basic Plotting Example\")\n",
    "plt.xlabel(header_values[0])\n",
    "plt.ylabel(header_values[1])\n",
    "\n",
    "# Make sure lower limit of y-axis is zero!\n",
    "plt.ylim(0)\n",
    "\n",
    "# Possibly, choose logarithmic x and/or y scales.\n",
    "# plt.xscale('log')\n",
    "# plt.yscale('log')\n",
    "#\n",
    "# Step 3d:  Plot the fit result\n",
    "xlow = min(xi) - 30\n",
    "xhigh = max(xi) + 10\n",
    "xfit = np.linspace(xlow, xhigh, 100)\n",
    "yfit = fitfunction(xfit,*popt)\n",
    "\n",
    "plt.plot(xfit,yfit,'r--', label = f\"Quadratic Fit: \\ny = ({a:.4f} +/- {da:.4f})x^2 + \\n({b:.2f} +/- {db:.2f})x + \\n({c:.2f} +/- {dc:.2f})\")\n",
    "\n",
    "# Step 4:  Plot the error band\n",
    "\n",
    "plot_error_band = True\n",
    "\n",
    "if plot_error_band:\n",
    "    ps = np.random.multivariate_normal(popt,pcov,10000)\n",
    "    ysample = np.asarray([fitfunction(xfit,*pi) for pi in ps])\n",
    "\n",
    "    lower = np.percentile(ysample, 16.0, axis=0)\n",
    "    upper = np.percentile(ysample, 84.0, axis=0)\n",
    "\n",
    "    plt.fill_between(xfit,lower,upper,color='gray',alpha=0.5, label='One Sigma Error Band')\n",
    "    \n",
    "# set x and y axis limits\n",
    "plt.xlim(0, xhigh)\n",
    "\n",
    "plt.legend()\n",
    "plt.show()"
   ],
   "metadata": {
    "collapsed": false,
    "ExecuteTime": {
     "end_time": "2024-05-14T12:46:15.152650Z",
     "start_time": "2024-05-14T12:46:14.925173Z"
    }
   },
   "outputs": []
  },
  {
   "cell_type": "code",
   "execution_count": 25,
   "source": [],
   "metadata": {
    "collapsed": false,
    "ExecuteTime": {
     "end_time": "2024-05-14T12:52:27.587008Z",
     "start_time": "2024-05-14T12:52:27.574768Z"
    }
   },
   "outputs": []
  },
  {
   "cell_type": "code",
   "execution_count": null,
   "source": [],
   "metadata": {
    "collapsed": false
   },
   "outputs": []
  }
 ],
 "metadata": {
  "kernelspec": {
   "display_name": "Python 3",
   "language": "python",
   "name": "python3"
  },
  "language_info": {
   "codemirror_mode": {
    "name": "ipython",
    "version": 2
   },
   "file_extension": ".py",
   "mimetype": "text/x-python",
   "name": "python",
   "nbconvert_exporter": "python",
   "pygments_lexer": "ipython2",
   "version": "2.7.6"
  }
 },
 "nbformat": 4,
 "nbformat_minor": 0
}
